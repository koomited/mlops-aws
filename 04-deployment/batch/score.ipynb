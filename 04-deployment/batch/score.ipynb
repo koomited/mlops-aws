{
 "cells": [
  {
   "cell_type": "code",
   "execution_count": 6,
   "id": "711d3781",
   "metadata": {},
   "outputs": [],
   "source": [
    "import pickle\n",
    "\n",
    "import pandas as pd\n",
    "\n",
    "from sklearn.feature_extraction import DictVectorizer\n",
    "from sklearn.ensemble import RandomForestRegressor\n",
    "from sklearn.metrics import root_mean_squared_error\n",
    "import mlflow\n",
    "# pipeline\n",
    "from sklearn.pipeline import make_pipeline\n",
    "import os\n",
    "import uuid"
   ]
  },
  {
   "cell_type": "code",
   "execution_count": 21,
   "id": "78f4f4b4",
   "metadata": {},
   "outputs": [],
   "source": [
    "year = 2021\n",
    "month = 2\n",
    "taxi_type = 'green'\n",
    "input_file = f'https://d37ci6vzurychx.cloudfront.net/trip-data/{taxi_type}_tripdata_{year:04d}-{month:02d}.parquet'\n",
    "output_file = f'output/{taxi_type}/{year:04d}-{month:02}.parquet'\n",
    "os.makedirs(os.path.dirname(output_file), exist_ok=True)\n",
    "\n",
    "RUN_ID = os.getenv('RUN_ID', 'm-73b1fea3e7c0444ebff7192f9d16ed53')\n"
   ]
  },
  {
   "cell_type": "code",
   "execution_count": 22,
   "id": "a133a6cf",
   "metadata": {},
   "outputs": [],
   "source": [
    "def generate_uuid(n):\n",
    "    rides_ids = []\n",
    "    for _ in range(n):\n",
    "        rides_ids.append(str(uuid.uuid4()))\n",
    "    return rides_ids\n",
    "\n",
    "\n",
    "def read_dataframe(filename: str):\n",
    "    df = pd.read_parquet(filename)\n",
    "\n",
    "    df['duration'] = df.lpep_dropoff_datetime - df.lpep_pickup_datetime\n",
    "    df.duration = df.duration.dt.total_seconds() / 60\n",
    "    df = df[(df.duration >= 1) & (df.duration <= 60)]\n",
    "\n",
    "    categorical = ['PULocationID', 'DOLocationID']\n",
    "    df[categorical] = df[categorical].astype(str)\n",
    "    df['ride_id'] = generate_uuid(len(df))\n",
    "    return df\n",
    "\n",
    "\n",
    "def prepare_dictionaries(df: pd.DataFrame):\n",
    "    df['PU_DO'] = df['PULocationID'] + '_' + df['DOLocationID']\n",
    "    categorical = ['PU_DO']\n",
    "    numerical = ['trip_distance']\n",
    "    dicts = df[categorical + numerical].to_dict(orient='records')\n",
    "    return dicts"
   ]
  },
  {
   "cell_type": "code",
   "execution_count": 23,
   "id": "8d8114cb",
   "metadata": {},
   "outputs": [],
   "source": [
    "def load_model(run_id: str):\n",
    "    logged_model = f's3://koomi-mlflow-artifacts-remote/2/models/{run_id}/artifacts'\n",
    "    model = mlflow.pyfunc.load_model(logged_model)\n",
    "    return model\n",
    "\n",
    "def apply_model(input_file: str, run_id: str, output_file: str):\n",
    "        \n",
    "        \n",
    "    df = read_dataframe(input_file)\n",
    "    dicts = prepare_dictionaries(df)\n",
    "    \n",
    "    model = load_model(run_id)\n",
    "    y_pred = model.predict(dicts)\n",
    "    \n",
    "    df_result = pd.DataFrame()\n",
    "    df_result[\"ride_id\"] = df[\"ride_id\"]\n",
    "    df_result[\"lpep_pickup_datetime\"] = df[\"lpep_pickup_datetime\"]\n",
    "    df_result[\"PULocationID\"] = df[\"PULocationID\"]\n",
    "    df_result[\"DOLocationID\"] = df[\"DOLocationID\"]\n",
    "    df_result[\"actual_duration\"] = df[\"duration\"]\n",
    "    df_result['predicted_duration'] = y_pred\n",
    "    df_result['diff'] = df_result['actual_duration'] - df_result['predicted_duration']\n",
    "    df_result['model_version'] = run_id\n",
    "    df_result.to_parquet(output_file, index=False)\n"
   ]
  },
  {
   "cell_type": "code",
   "execution_count": 25,
   "id": "d777eb9e",
   "metadata": {},
   "outputs": [
    {
     "name": "stderr",
     "output_type": "stream",
     "text": [
      "Downloading artifacts: 100%|██████████| 5/5 [00:00<00:00, 12.93it/s]\n"
     ]
    }
   ],
   "source": [
    "apply_model(input_file, RUN_ID, output_file)"
   ]
  },
  {
   "cell_type": "code",
   "execution_count": 27,
   "id": "09978cc5",
   "metadata": {},
   "outputs": [
    {
     "name": "stdout",
     "output_type": "stream",
     "text": [
      "total 3.6M\n",
      "-rw-rw-r-- 1 ubuntu ubuntu 3.6M Sep  5 17:52 2021-02.parquet\n"
     ]
    }
   ],
   "source": [
    "!ls -lh output/green/"
   ]
  },
  {
   "cell_type": "code",
   "execution_count": null,
   "id": "e655996a",
   "metadata": {},
   "outputs": [],
   "source": []
  },
  {
   "cell_type": "code",
   "execution_count": null,
   "id": "c6850f36",
   "metadata": {},
   "outputs": [],
   "source": []
  }
 ],
 "metadata": {
  "kernelspec": {
   "display_name": "venv (3.13.5)",
   "language": "python",
   "name": "python3"
  },
  "language_info": {
   "codemirror_mode": {
    "name": "ipython",
    "version": 3
   },
   "file_extension": ".py",
   "mimetype": "text/x-python",
   "name": "python",
   "nbconvert_exporter": "python",
   "pygments_lexer": "ipython3",
   "version": "3.13.5"
  }
 },
 "nbformat": 4,
 "nbformat_minor": 5
}
