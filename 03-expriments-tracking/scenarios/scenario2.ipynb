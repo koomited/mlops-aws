{
 "cells": [
  {
   "cell_type": "code",
   "execution_count": 7,
   "id": "0cfa8974",
   "metadata": {},
   "outputs": [],
   "source": [
    "import mlflow"
   ]
  },
  {
   "cell_type": "code",
   "execution_count": 8,
   "id": "be0caa54",
   "metadata": {},
   "outputs": [],
   "source": [
    "mlflow.set_tracking_uri(\"http://localhost:5000\")  # Set the tracking URI to your MLflow server"
   ]
  },
  {
   "cell_type": "code",
   "execution_count": 9,
   "id": "1b8ebefd",
   "metadata": {},
   "outputs": [
    {
     "name": "stdout",
     "output_type": "stream",
     "text": [
      "MLFLOW TRACKING URI: http://localhost:5000\n"
     ]
    }
   ],
   "source": [
    "print(f\"MLFLOW TRACKING URI: {mlflow.get_tracking_uri()}\")"
   ]
  },
  {
   "cell_type": "code",
   "execution_count": 10,
   "id": "ca259457",
   "metadata": {},
   "outputs": [
    {
     "data": {
      "text/plain": [
       "[<Experiment: artifact_location='/home/ubuntu/notebooks/03-expriments-tracking/scenarios/artifacts_local/0', creation_time=1756884772700, experiment_id='0', last_update_time=1756884772700, lifecycle_stage='active', name='Default', tags={}>]"
      ]
     },
     "execution_count": 10,
     "metadata": {},
     "output_type": "execute_result"
    }
   ],
   "source": [
    "mlflow.search_experiments()"
   ]
  },
  {
   "cell_type": "markdown",
   "id": "56f8dbb3",
   "metadata": {},
   "source": []
  },
  {
   "cell_type": "code",
   "execution_count": 11,
   "id": "93b0416b",
   "metadata": {},
   "outputs": [],
   "source": [
    "from sklearn.linear_model import LogisticRegression\n",
    "from sklearn.datasets import load_iris\n",
    "from sklearn.metrics import accuracy_score\n"
   ]
  },
  {
   "cell_type": "code",
   "execution_count": 12,
   "id": "c24f4d7e",
   "metadata": {},
   "outputs": [
    {
     "name": "stderr",
     "output_type": "stream",
     "text": [
      "2025/09/03 07:33:36 INFO mlflow.tracking.fluent: Experiment with name 'Scenario1' does not exist. Creating a new experiment.\n"
     ]
    },
    {
     "data": {
      "text/plain": [
       "<Experiment: artifact_location='/home/ubuntu/notebooks/03-expriments-tracking/scenarios/artifacts_local/1', creation_time=1756884816790, experiment_id='1', last_update_time=1756884816790, lifecycle_stage='active', name='Scenario1', tags={}>"
      ]
     },
     "execution_count": 12,
     "metadata": {},
     "output_type": "execute_result"
    }
   ],
   "source": [
    "mlflow.set_experiment(\"Scenario1\")"
   ]
  },
  {
   "cell_type": "code",
   "execution_count": 13,
   "id": "1cf8e687",
   "metadata": {},
   "outputs": [
    {
     "name": "stderr",
     "output_type": "stream",
     "text": [
      "\u001b[31m2025/09/03 07:34:13 WARNING mlflow.models.model: Model logged without a signature and input example. Please set `input_example` parameter when logging the model to auto infer the model signature.\u001b[0m\n"
     ]
    },
    {
     "name": "stdout",
     "output_type": "stream",
     "text": [
      "Logged model with accuracy: 0.96\n",
      "🏃 View run skillful-dolphin-249 at: http://localhost:5000/#/experiments/1/runs/f3653b8c3a1c450c9cd4e40ba0460755\n",
      "🧪 View experiment at: http://localhost:5000/#/experiments/1\n"
     ]
    }
   ],
   "source": [
    "with mlflow.start_run():\n",
    "    # Load data\n",
    "    X, y = load_iris(return_X_y=True)\n",
    "    \n",
    "    params = {\"C\": 0.1, \"random_state\": 42}\n",
    "    # Predict\n",
    "    mlflow.log_params(params)\n",
    "    model = LogisticRegression(**params).fit(X, y)\n",
    "    y_pred= model.predict(X)\n",
    "    accuracy = accuracy_score(y, y_pred)\n",
    "    \n",
    "    mlflow.log_metric(\"accuracy\", accuracy)\n",
    "    mlflow.sklearn.log_model(model, name=\"models\")\n",
    "\n",
    "    print(f\"Logged model with accuracy: {accuracy}\")"
   ]
  },
  {
   "cell_type": "code",
   "execution_count": 14,
   "id": "dbe680f9",
   "metadata": {},
   "outputs": [],
   "source": [
    "from mlflow.tracking import MlflowClient\n",
    "client = MlflowClient(\"http://localhost:5000\")"
   ]
  },
  {
   "cell_type": "code",
   "execution_count": 15,
   "id": "576acc07",
   "metadata": {},
   "outputs": [
    {
     "data": {
      "text/plain": [
       "[]"
      ]
     },
     "execution_count": 15,
     "metadata": {},
     "output_type": "execute_result"
    }
   ],
   "source": [
    "client.search_registered_models()"
   ]
  },
  {
   "cell_type": "code",
   "execution_count": 24,
   "id": "e32e0a49",
   "metadata": {},
   "outputs": [
    {
     "name": "stderr",
     "output_type": "stream",
     "text": [
      "Successfully registered model 'IrisModel'.\n",
      "2025/09/03 07:41:22 WARNING mlflow.tracking._model_registry.fluent: Run with id f3653b8c3a1c450c9cd4e40ba0460755 has no artifacts at artifact path 'models', registering model based on models:/m-b32f38c748464e75a1be03c3866092d5 instead\n",
      "2025/09/03 07:41:23 INFO mlflow.store.model_registry.abstract_store: Waiting up to 300 seconds for model version to finish creation. Model name: IrisModel, version 1\n",
      "Created version '1' of model 'IrisModel'.\n"
     ]
    },
    {
     "data": {
      "text/plain": [
       "<ModelVersion: aliases=[], creation_timestamp=1756885282973, current_stage='None', deployment_job_state=<ModelVersionDeploymentJobState: current_task_name='', job_id='', job_state='DEPLOYMENT_JOB_CONNECTION_STATE_UNSPECIFIED', run_id='', run_state='DEPLOYMENT_JOB_RUN_STATE_UNSPECIFIED'>, description='', last_updated_timestamp=1756885282973, metrics=None, model_id=None, name='IrisModel', params=None, run_id='f3653b8c3a1c450c9cd4e40ba0460755', run_link='', source='models:/m-b32f38c748464e75a1be03c3866092d5', status='READY', status_message=None, tags={}, user_id='', version='1'>"
      ]
     },
     "execution_count": 24,
     "metadata": {},
     "output_type": "execute_result"
    }
   ],
   "source": [
    "run_id = client.search_runs(experiment_ids=\"1\")[0].info.run_id\n",
    "mlflow.register_model(f\"runs:/{run_id}/models\", \"IrisModel\")"
   ]
  },
  {
   "cell_type": "code",
   "execution_count": 30,
   "id": "4ccebe7b",
   "metadata": {},
   "outputs": [
    {
     "ename": "AttributeError",
     "evalue": "'MlflowClient' object has no attribute 'set_aliase'",
     "output_type": "error",
     "traceback": [
      "\u001b[31m---------------------------------------------------------------------------\u001b[39m",
      "\u001b[31mAttributeError\u001b[39m                            Traceback (most recent call last)",
      "\u001b[36mCell\u001b[39m\u001b[36m \u001b[39m\u001b[32mIn[30]\u001b[39m\u001b[32m, line 2\u001b[39m\n\u001b[32m      1\u001b[39m \u001b[38;5;66;03m# client.set_tag(run_id=run_id, key=\"env\", value=\"Production\")\u001b[39;00m\n\u001b[32m----> \u001b[39m\u001b[32m2\u001b[39m \u001b[43mclient\u001b[49m\u001b[43m.\u001b[49m\u001b[43mset_aliase\u001b[49m(run_id=run_id, key=\u001b[33m\"\u001b[39m\u001b[33menv\u001b[39m\u001b[33m\"\u001b[39m, value=\u001b[33m\"\u001b[39m\u001b[33mProduction\u001b[39m\u001b[33m\"\u001b[39m)\n\u001b[32m      4\u001b[39m \u001b[38;5;66;03m# Or set a tag on a model version\u001b[39;00m\n\u001b[32m      5\u001b[39m \u001b[38;5;66;03m# client.set_model_version_tag(\u001b[39;00m\n\u001b[32m      6\u001b[39m \u001b[38;5;66;03m#     name=\"IrisModel\",\u001b[39;00m\n\u001b[32m   (...)\u001b[39m\u001b[32m     10\u001b[39m \u001b[38;5;66;03m#     stage=None   # new param in your version\u001b[39;00m\n\u001b[32m     11\u001b[39m \u001b[38;5;66;03m# )\u001b[39;00m\n",
      "\u001b[31mAttributeError\u001b[39m: 'MlflowClient' object has no attribute 'set_aliase'"
     ]
    }
   ],
   "source": [
    "# client.set_tag(run_id=run_id, key=\"env\", value=\"Production\")\n",
    "client.set_aliase(run_id=run_id, key=\"env\", value=\"Production\")\n",
    "\n",
    "# Or set a tag on a model version\n",
    "# client.set_model_version_tag(\n",
    "#     name=\"IrisModel\",\n",
    "#     version=1,\n",
    "#     key=\"env\",\n",
    "#     value=\"Staging\",\n",
    "#     stage=None   # new param in your version\n",
    "# )\n",
    "\n"
   ]
  },
  {
   "cell_type": "code",
   "execution_count": 17,
   "id": "01450775",
   "metadata": {},
   "outputs": [
    {
     "data": {
      "text/plain": [
       "[]"
      ]
     },
     "execution_count": 17,
     "metadata": {},
     "output_type": "execute_result"
    }
   ],
   "source": [
    "client.search_registered_models()"
   ]
  },
  {
   "cell_type": "code",
   "execution_count": 12,
   "id": "6860bdf8",
   "metadata": {},
   "outputs": [],
   "source": [
    "from mlflow.exceptions import MlflowException\n"
   ]
  },
  {
   "cell_type": "code",
   "execution_count": 16,
   "id": "f902895b",
   "metadata": {},
   "outputs": [
    {
     "name": "stdout",
     "output_type": "stream",
     "text": [
      "Access to the model registry is working\n"
     ]
    }
   ],
   "source": [
    "try:\n",
    "    client.search_registered_models()\n",
    "    print(f\"Access to the model registry is working\")\n",
    "except MlflowException:\n",
    "    print(f\"It's not possible to access the model registry\")"
   ]
  },
  {
   "cell_type": "code",
   "execution_count": null,
   "id": "ac11ca7f",
   "metadata": {},
   "outputs": [],
   "source": []
  }
 ],
 "metadata": {
  "kernelspec": {
   "display_name": "venv (3.13.5)",
   "language": "python",
   "name": "python3"
  },
  "language_info": {
   "codemirror_mode": {
    "name": "ipython",
    "version": 3
   },
   "file_extension": ".py",
   "mimetype": "text/x-python",
   "name": "python",
   "nbconvert_exporter": "python",
   "pygments_lexer": "ipython3",
   "version": "3.13.5"
  }
 },
 "nbformat": 4,
 "nbformat_minor": 5
}
