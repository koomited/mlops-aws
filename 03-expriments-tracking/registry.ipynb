{
 "cells": [
  {
   "cell_type": "code",
   "execution_count": 1,
   "id": "f5a02a69",
   "metadata": {},
   "outputs": [],
   "source": [
    "from mlflow.tracking import MlflowClient\n",
    "import mlflow"
   ]
  },
  {
   "cell_type": "code",
   "execution_count": 2,
   "id": "b63ba00f",
   "metadata": {},
   "outputs": [],
   "source": [
    "MLFLOW_TRACKING_URI = \"sqlite:///mlflow.db\""
   ]
  },
  {
   "cell_type": "code",
   "execution_count": 3,
   "id": "fb9c6d2c",
   "metadata": {},
   "outputs": [
    {
     "name": "stderr",
     "output_type": "stream",
     "text": [
      "2025/09/02 14:43:43 INFO mlflow.store.db.utils: Creating initial MLflow database tables...\n",
      "2025/09/02 14:43:43 INFO mlflow.store.db.utils: Updating database tables\n",
      "INFO  [alembic.runtime.migration] Context impl SQLiteImpl.\n",
      "INFO  [alembic.runtime.migration] Will assume non-transactional DDL.\n",
      "INFO  [alembic.runtime.migration] Context impl SQLiteImpl.\n",
      "INFO  [alembic.runtime.migration] Will assume non-transactional DDL.\n"
     ]
    }
   ],
   "source": [
    "client = MlflowClient(tracking_uri=MLFLOW_TRACKING_URI)"
   ]
  },
  {
   "cell_type": "code",
   "execution_count": 6,
   "id": "2d5aef10",
   "metadata": {},
   "outputs": [
    {
     "data": {
      "text/plain": [
       "[<Experiment: artifact_location='/home/ubuntu/notebooks/03-expriments-tracking/mlruns/1', creation_time=1756745664232, experiment_id='1', last_update_time=1756745664232, lifecycle_stage='active', name='nyc-taxi-experiment', tags={}>,\n",
       " <Experiment: artifact_location='/home/ubuntu/notebooks/03-expriments-tracking/mlruns/0', creation_time=1756745664225, experiment_id='0', last_update_time=1756745664225, lifecycle_stage='active', name='Default', tags={}>]"
      ]
     },
     "execution_count": 6,
     "metadata": {},
     "output_type": "execute_result"
    }
   ],
   "source": [
    "client.search_experiments()"
   ]
  },
  {
   "cell_type": "code",
   "execution_count": 7,
   "id": "54033af8",
   "metadata": {},
   "outputs": [
    {
     "name": "stderr",
     "output_type": "stream",
     "text": [
      "2025/09/02 14:47:25 INFO mlflow.store.db.utils: Creating initial MLflow database tables...\n",
      "2025/09/02 14:47:25 INFO mlflow.store.db.utils: Updating database tables\n",
      "INFO  [alembic.runtime.migration] Context impl SQLiteImpl.\n",
      "INFO  [alembic.runtime.migration] Will assume non-transactional DDL.\n"
     ]
    },
    {
     "data": {
      "text/plain": [
       "<RegisteredModel: aliases={}, creation_timestamp=1756822368077, deployment_job_id=None, deployment_job_state=None, description='THis is New York City Taxi duration prediction', last_updated_timestamp=1756823927925, latest_versions=[<ModelVersion: aliases=[], creation_timestamp=1756822666734, current_stage='Staging', deployment_job_state=None, description='', last_updated_timestamp=1756823927925, metrics=None, model_id=None, name='nyc-taxi-duration-predictor', params=None, run_id='', run_link='', source='/home/ubuntu/notebooks/03-expriments-tracking/mlruns/1/models/m-f172cc4cd9494fb1a42927e16e6c7e9e/artifacts', status='READY', status_message=None, tags={'model': 'xgboost prime'}, user_id=None, version=3>], name='nyc-taxi-duration-predictor', tags={}>"
      ]
     },
     "execution_count": 7,
     "metadata": {},
     "output_type": "execute_result"
    }
   ],
   "source": [
    "client.get_registered_model(\"nyc-taxi-duration-predictor\")"
   ]
  },
  {
   "cell_type": "code",
   "execution_count": 9,
   "id": "3122f5e1",
   "metadata": {},
   "outputs": [
    {
     "data": {
      "text/plain": [
       "'2'"
      ]
     },
     "execution_count": 9,
     "metadata": {},
     "output_type": "execute_result"
    }
   ],
   "source": [
    "client.create_experiment(name=\"nyc-taxi-duration-prediction\")"
   ]
  },
  {
   "cell_type": "code",
   "execution_count": 11,
   "id": "8dac1db5",
   "metadata": {},
   "outputs": [],
   "source": [
    "from mlflow.entities import ViewType"
   ]
  },
  {
   "cell_type": "code",
   "execution_count": 16,
   "id": "b50de3cd",
   "metadata": {},
   "outputs": [],
   "source": [
    "runs = client.search_runs(\n",
    "    experiment_ids=[\"1\"], \n",
    "    filter_string=\"metrics.rmse < 7\",\n",
    "    run_view_type=ViewType.ACTIVE_ONLY,\n",
    "    max_results=5,\n",
    "    order_by=[\"metrics.rmse ASC\"]\n",
    "    \n",
    ")"
   ]
  },
  {
   "cell_type": "code",
   "execution_count": 17,
   "id": "36a0faec",
   "metadata": {},
   "outputs": [
    {
     "name": "stdout",
     "output_type": "stream",
     "text": [
      "Run ID: 85f4610e1d8f40a9bb6292ebbe34f010\n",
      "  RMSE: 6.3166035820637125\n",
      "  Params: {'learning_rate': '0.33707810007380146', 'max_depth': '39', 'min_child_weight': '1.3396380858101118', 'objective': 'reg:linear', 'reg_alpha': '0.21705039846156954', 'reg_lambda': '0.06884936106500567', 'seed': '42', 'num_boost_round': '1000', 'early_stopping_rounds': '50', 'maximize': 'None', 'verbose_eval': 'True', 'custom_metric': 'None'}\n",
      "\n",
      "Run ID: ac5459cc134b445ab5f2037d9df96203\n",
      "  RMSE: 6.3166035820637125\n",
      "  Params: {'learning_rate': '0.33707810007380146', 'max_depth': '39', 'min_child_weight': '1.3396380858101118', 'objective': 'reg:linear', 'reg_alpha': '0.21705039846156954', 'reg_lambda': '0.06884936106500567', 'seed': '42'}\n",
      "\n",
      "Run ID: 0ccbc2a511044753a0d923c4d6c95b59\n",
      "  RMSE: 6.3166035820637125\n",
      "  Params: {'learning_rate': '0.33707810007380146', 'max_depth': '39', 'min_child_weight': '1.3396380858101118', 'objective': 'reg:linear', 'reg_alpha': '0.21705039846156954', 'reg_lambda': '0.06884936106500567', 'seed': '42'}\n",
      "\n",
      "Run ID: 7724f66535ee467a8c8a50fc9f89fb24\n",
      "  RMSE: 6.3166035820637125\n",
      "  Params: {'learning_rate': '0.33707810007380146', 'max_depth': '39', 'min_child_weight': '1.3396380858101118', 'objective': 'reg:squarederror', 'reg_alpha': '0.21705039846156954', 'reg_lambda': '0.06884936106500567', 'seed': '42', 'num_boost_round': '1000', 'early_stopping_rounds': '50', 'maximize': 'None', 'verbose_eval': 'True', 'custom_metric': 'None'}\n",
      "\n",
      "Run ID: eda21cbd20764324939a37fadd05271f\n",
      "  RMSE: 6.3166035820637125\n",
      "  Params: {'learning_rate': '0.33707810007380146', 'max_depth': '39', 'min_child_weight': '1.3396380858101118', 'objective': 'reg:linear', 'reg_alpha': '0.21705039846156954', 'reg_lambda': '0.06884936106500567', 'seed': '42', 'num_boost_round': '1000', 'early_stopping_rounds': '50', 'maximize': 'None', 'verbose_eval': 'True', 'custom_metric': 'None'}\n",
      "\n"
     ]
    }
   ],
   "source": [
    "for run in runs:\n",
    "    print(f\"Run ID: {run.info.run_id}\")\n",
    "    print(f\"  RMSE: {run.data.metrics['rmse']}\")\n",
    "    print(f\"  Params: {run.data.params}\")\n",
    "    print()"
   ]
  },
  {
   "cell_type": "code",
   "execution_count": 18,
   "id": "78e3822f",
   "metadata": {},
   "outputs": [],
   "source": [
    "import mlflow\n",
    "mlflow.set_tracking_uri(MLFLOW_TRACKING_URI)"
   ]
  },
  {
   "cell_type": "code",
   "execution_count": 20,
   "id": "0d12b46b",
   "metadata": {},
   "outputs": [
    {
     "name": "stderr",
     "output_type": "stream",
     "text": [
      "Registered model 'nyc-taxi-duration-predictor' already exists. Creating a new version of this model...\n",
      "2025/09/02 15:07:24 WARNING mlflow.tracking._model_registry.fluent: Run with id 0ccbc2a511044753a0d923c4d6c95b59 has no artifacts at artifact path 'xgboost-model', registering model based on models:/m-6e4ee1d0f1a049caa0849b9f64ed7b07 instead\n",
      "Created version '4' of model 'nyc-taxi-duration-predictor'.\n"
     ]
    },
    {
     "data": {
      "text/plain": [
       "<ModelVersion: aliases=[], creation_timestamp=1756825644584, current_stage='None', deployment_job_state=None, description=None, last_updated_timestamp=1756825644584, metrics=None, model_id=None, name='nyc-taxi-duration-predictor', params=None, run_id='0ccbc2a511044753a0d923c4d6c95b59', run_link=None, source='models:/m-6e4ee1d0f1a049caa0849b9f64ed7b07', status='READY', status_message=None, tags={}, user_id=None, version=4>"
      ]
     },
     "execution_count": 20,
     "metadata": {},
     "output_type": "execute_result"
    }
   ],
   "source": [
    "run_id = \"0ccbc2a511044753a0d923c4d6c95b59\"\n",
    "model_uri = f\"runs:/{run_id}/xgboost-model\"\n",
    "mlflow.register_model(\n",
    "    model_uri=model_uri,\n",
    "    name=\"nyc-taxi-duration-predictor\"\n",
    ")"
   ]
  },
  {
   "cell_type": "code",
   "execution_count": 21,
   "id": "a1243c62",
   "metadata": {},
   "outputs": [
    {
     "data": {
      "text/plain": [
       "[<RegisteredModel: aliases={}, creation_timestamp=1756822368077, deployment_job_id=None, deployment_job_state=None, description='THis is New York City Taxi duration prediction', last_updated_timestamp=1756825644584, latest_versions=[<ModelVersion: aliases=[], creation_timestamp=1756822666734, current_stage='Staging', deployment_job_state=None, description='', last_updated_timestamp=1756823927925, metrics=None, model_id=None, name='nyc-taxi-duration-predictor', params=None, run_id='', run_link='', source='/home/ubuntu/notebooks/03-expriments-tracking/mlruns/1/models/m-f172cc4cd9494fb1a42927e16e6c7e9e/artifacts', status='READY', status_message=None, tags={'model': 'xgboost prime'}, user_id=None, version=3>,\n",
       "  <ModelVersion: aliases=[], creation_timestamp=1756825644584, current_stage='None', deployment_job_state=None, description=None, last_updated_timestamp=1756825644584, metrics=None, model_id=None, name='nyc-taxi-duration-predictor', params=None, run_id='0ccbc2a511044753a0d923c4d6c95b59', run_link=None, source='models:/m-6e4ee1d0f1a049caa0849b9f64ed7b07', status='READY', status_message=None, tags={}, user_id=None, version=4>], name='nyc-taxi-duration-predictor', tags={}>]"
      ]
     },
     "execution_count": 21,
     "metadata": {},
     "output_type": "execute_result"
    }
   ],
   "source": [
    "client.search_registered_models()"
   ]
  },
  {
   "cell_type": "code",
   "execution_count": 30,
   "id": "5d967ec6",
   "metadata": {},
   "outputs": [
    {
     "name": "stdout",
     "output_type": "stream",
     "text": [
      "Version: 3\n",
      "  Stage: Staging\n",
      "  Run ID: \n",
      "  Status: READY\n",
      "\n",
      "Version: 4\n",
      "  Stage: None\n",
      "  Run ID: 0ccbc2a511044753a0d923c4d6c95b59\n",
      "  Status: READY\n",
      "\n"
     ]
    },
    {
     "name": "stderr",
     "output_type": "stream",
     "text": [
      "/tmp/ipykernel_46765/123324792.py:2: FutureWarning: ``mlflow.tracking.client.MlflowClient.get_latest_versions`` is deprecated since 2.9.0. Model registry stages will be removed in a future major release. To learn more about the deprecation of model registry stages, see our migration guide here: https://mlflow.org/docs/latest/model-registry.html#migrating-from-stages\n",
      "  latest_versions = client.get_latest_versions(model_name\n"
     ]
    }
   ],
   "source": [
    "model_name = \"nyc-taxi-duration-predictor\"\n",
    "latest_versions = client.get_latest_versions(model_name\n",
    "                           )\n",
    "\n",
    "for version in latest_versions:\n",
    "    print(f\"Version: {version.version}\")\n",
    "    print(f\"  Stage: {version.current_stage}\")\n",
    "    print(f\"  Run ID: {version.run_id}\")\n",
    "    print(f\"  Status: {version.status}\")\n",
    "    print()"
   ]
  },
  {
   "cell_type": "code",
   "execution_count": 32,
   "id": "e2baf1d6",
   "metadata": {},
   "outputs": [
    {
     "name": "stderr",
     "output_type": "stream",
     "text": [
      "/tmp/ipykernel_46765/3337801868.py:1: FutureWarning: ``mlflow.tracking.client.MlflowClient.transition_model_version_stage`` is deprecated since 2.9.0. Model registry stages will be removed in a future major release. To learn more about the deprecation of model registry stages, see our migration guide here: https://mlflow.org/docs/latest/model-registry.html#migrating-from-stages\n",
      "  client.transition_model_version_stage(\n"
     ]
    },
    {
     "data": {
      "text/plain": [
       "<ModelVersion: aliases=[], creation_timestamp=1756825644584, current_stage='Staging', deployment_job_state=None, description=None, last_updated_timestamp=1756826380429, metrics=None, model_id=None, name='nyc-taxi-duration-predictor', params=None, run_id='0ccbc2a511044753a0d923c4d6c95b59', run_link=None, source='models:/m-6e4ee1d0f1a049caa0849b9f64ed7b07', status='READY', status_message=None, tags={}, user_id=None, version=4>"
      ]
     },
     "execution_count": 32,
     "metadata": {},
     "output_type": "execute_result"
    }
   ],
   "source": [
    "client.transition_model_version_stage(\n",
    "    name=model_name,\n",
    "    version=4,\n",
    "    stage=\"Staging\",\n",
    "    archive_existing_versions=False)"
   ]
  },
  {
   "cell_type": "code",
   "execution_count": 37,
   "id": "17a52af4",
   "metadata": {},
   "outputs": [],
   "source": [
    "model_version = 4\n",
    "new_stage = \"Staging\""
   ]
  },
  {
   "cell_type": "code",
   "execution_count": 38,
   "id": "3c29bcaa",
   "metadata": {},
   "outputs": [],
   "source": [
    "from datetime import datetime\n"
   ]
  },
  {
   "cell_type": "code",
   "execution_count": 41,
   "id": "82fee58e",
   "metadata": {},
   "outputs": [
    {
     "data": {
      "text/plain": [
       "<ModelVersion: aliases=[], creation_timestamp=1756825644584, current_stage='Staging', deployment_job_state=None, description='The model version 4 has been promoted to Staging on 2025-09-02 15:28:50', last_updated_timestamp=1756826930460, metrics=None, model_id=None, name='nyc-taxi-duration-predictor', params=None, run_id='0ccbc2a511044753a0d923c4d6c95b59', run_link=None, source='models:/m-6e4ee1d0f1a049caa0849b9f64ed7b07', status='READY', status_message=None, tags={}, user_id=None, version=4>"
      ]
     },
     "execution_count": 41,
     "metadata": {},
     "output_type": "execute_result"
    }
   ],
   "source": [
    "date = datetime.now().strftime(\"%Y-%m-%d %H:%M:%S\")\n",
    "client.update_model_version(\n",
    "    name=model_name,\n",
    "    version=model_version,\n",
    "    description=f\"The model version {model_version} has been promoted to {new_stage} on {date }\"\n",
    ")"
   ]
  },
  {
   "cell_type": "code",
   "execution_count": 42,
   "id": "1f3f5af1",
   "metadata": {},
   "outputs": [
    {
     "name": "stderr",
     "output_type": "stream",
     "text": [
      "/tmp/ipykernel_46765/2484087744.py:1: FutureWarning: ``mlflow.tracking.client.MlflowClient.transition_model_version_stage`` is deprecated since 2.9.0. Model registry stages will be removed in a future major release. To learn more about the deprecation of model registry stages, see our migration guide here: https://mlflow.org/docs/latest/model-registry.html#migrating-from-stages\n",
      "  client.transition_model_version_stage(\n"
     ]
    },
    {
     "data": {
      "text/plain": [
       "<ModelVersion: aliases=[], creation_timestamp=1756822368440, current_stage='Production', deployment_job_state=None, description='', last_updated_timestamp=1756826984629, metrics=None, model_id=None, name='nyc-taxi-duration-predictor', params=None, run_id='', run_link='', source='/home/ubuntu/notebooks/03-expriments-tracking/mlruns/1/models/m-8ff74fb9dd1e4d489a6987f365713231/artifacts', status='READY', status_message=None, tags={'model': 'xgboost'}, user_id=None, version=1>"
      ]
     },
     "execution_count": 42,
     "metadata": {},
     "output_type": "execute_result"
    }
   ],
   "source": [
    "client.transition_model_version_stage(\n",
    "    name=model_name,\n",
    "    version=1,\n",
    "    stage=\"Production\",\n",
    "    archive_existing_versions=False)"
   ]
  },
  {
   "cell_type": "code",
   "execution_count": null,
   "id": "d2a57bff",
   "metadata": {},
   "outputs": [],
   "source": []
  },
  {
   "cell_type": "code",
   "execution_count": 47,
   "id": "69d8eced",
   "metadata": {},
   "outputs": [],
   "source": [
    "import numpy as np\n",
    "import pandas as pd"
   ]
  },
  {
   "cell_type": "code",
   "execution_count": 67,
   "id": "3ef0153c",
   "metadata": {},
   "outputs": [],
   "source": [
    "from sklearn.metrics import mean_squared_error"
   ]
  },
  {
   "cell_type": "code",
   "execution_count": 68,
   "id": "0628466a",
   "metadata": {},
   "outputs": [],
   "source": [
    "def read_data(filename):\n",
    "    df = pd.read_parquet(filename)\n",
    "    df[\"duration\"] = df.lpep_dropoff_datetime - df.lpep_pickup_datetime\n",
    "    df.duration = df.duration.apply(lambda td: td.total_seconds()/60)\n",
    "    df = df[((df.duration >= 1) & (df.duration <= 60))]\n",
    "    categorical = [\"PULocationID\", \"DOLocationID\"]\n",
    "    # numerical = [\"trip_distance\"]\n",
    "    # df[categorical] = df[categorical].astype(str)\n",
    "    df.loc[:, categorical] = df[categorical].astype(str)\n",
    "    return df\n",
    "\n",
    "\n",
    "def prepare_dictionaries(df, dv):\n",
    "    df[\"PU_DO\"] = df[\"PULocationID\"] + \"_\" + df[\"DOLocationID\"]\n",
    "    CATEGORICAL = [\"PU_DO\"] #+ categorical\n",
    "    numerical = [\"trip_distance\"]\n",
    "    train_dicts = df[CATEGORICAL+numerical].to_dict(orient=\"records\")\n",
    "    return dv.transform(train_dicts)\n",
    "\n",
    "def test_model(stage, X_test, y_test, name=\"nyc-taxi-duration-predictor\"):\n",
    "    model = mlflow.pyfunc.load_model(\n",
    "        model_uri=f\"models:/{name}/{stage}\"\n",
    "    )\n",
    "    y_pred = model.predict(X_test)\n",
    "    rmse = np.sqrt(mean_squared_error(y_test, y_pred))\n",
    "    return {\"rmse\": rmse}"
   ]
  },
  {
   "cell_type": "code",
   "execution_count": 50,
   "id": "a9ffd303",
   "metadata": {},
   "outputs": [
    {
     "name": "stdout",
     "output_type": "stream",
     "text": [
      "/home/ubuntu/notebooks/03-expriments-tracking\n"
     ]
    }
   ],
   "source": [
    "!pwd"
   ]
  },
  {
   "cell_type": "code",
   "execution_count": 70,
   "id": "56420033",
   "metadata": {},
   "outputs": [
    {
     "name": "stderr",
     "output_type": "stream",
     "text": [
      "/tmp/ipykernel_46765/3333965077.py:9: FutureWarning: Setting an item of incompatible dtype is deprecated and will raise in a future error of pandas. Value '['83' '243' '75' ... '95' '37' '116']' has dtype incompatible with int64, please explicitly cast to a compatible dtype first.\n",
      "  df.loc[:, categorical] = df[categorical].astype(str)\n",
      "/tmp/ipykernel_46765/3333965077.py:9: FutureWarning: Setting an item of incompatible dtype is deprecated and will raise in a future error of pandas. Value '['129' '235' '242' ... '95' '14' '166']' has dtype incompatible with int64, please explicitly cast to a compatible dtype first.\n",
      "  df.loc[:, categorical] = df[categorical].astype(str)\n"
     ]
    }
   ],
   "source": [
    "df = read_data(\"data/green_tripdata_2021-03.parquet\")"
   ]
  },
  {
   "cell_type": "code",
   "execution_count": 71,
   "id": "922199a6",
   "metadata": {},
   "outputs": [
    {
     "name": "stderr",
     "output_type": "stream",
     "text": [
      "Downloading artifacts: 100%|██████████| 1/1 [00:00<00:00, 1320.21it/s] \n"
     ]
    },
    {
     "data": {
      "text/plain": [
       "'/home/ubuntu/notebooks/03-expriments-tracking/models/preprocessor'"
      ]
     },
     "execution_count": 71,
     "metadata": {},
     "output_type": "execute_result"
    }
   ],
   "source": [
    "client.download_artifacts(\n",
    "            run_id=\"85f4610e1d8f40a9bb6292ebbe34f010\",\n",
    "            path=\"preprocessor\", dst_path=\"models\"\n",
    "        )"
   ]
  },
  {
   "cell_type": "code",
   "execution_count": 72,
   "id": "add5b72c",
   "metadata": {},
   "outputs": [],
   "source": [
    "import pickle\n",
    "with open(\"models/preprocessor/preprosessor.b\", \"rb\") as f_in:\n",
    "    dv = pickle.load(f_in)"
   ]
  },
  {
   "cell_type": "code",
   "execution_count": 73,
   "id": "98df2326",
   "metadata": {},
   "outputs": [],
   "source": [
    "X_test = prepare_dictionaries(df, dv)"
   ]
  },
  {
   "cell_type": "code",
   "execution_count": 74,
   "id": "24b16606",
   "metadata": {},
   "outputs": [],
   "source": [
    "target = \"duration\"\n",
    "y_test = df[target].values"
   ]
  },
  {
   "cell_type": "code",
   "execution_count": 75,
   "id": "570579b7",
   "metadata": {},
   "outputs": [
    {
     "name": "stdout",
     "output_type": "stream",
     "text": [
      "CPU times: user 10.9 s, sys: 0 ns, total: 10.9 s\n",
      "Wall time: 2.83 s\n"
     ]
    },
    {
     "data": {
      "text/plain": [
       "{'rmse': np.float64(6.269207489717142)}"
      ]
     },
     "execution_count": 75,
     "metadata": {},
     "output_type": "execute_result"
    }
   ],
   "source": [
    "%time test_model(\"Production\", X_test, y_test)"
   ]
  },
  {
   "cell_type": "code",
   "execution_count": null,
   "id": "1ed5d4de",
   "metadata": {},
   "outputs": [],
   "source": []
  }
 ],
 "metadata": {
  "kernelspec": {
   "display_name": "venv (3.13.5)",
   "language": "python",
   "name": "python3"
  },
  "language_info": {
   "codemirror_mode": {
    "name": "ipython",
    "version": 3
   },
   "file_extension": ".py",
   "mimetype": "text/x-python",
   "name": "python",
   "nbconvert_exporter": "python",
   "pygments_lexer": "ipython3",
   "version": "3.13.5"
  }
 },
 "nbformat": 4,
 "nbformat_minor": 5
}
